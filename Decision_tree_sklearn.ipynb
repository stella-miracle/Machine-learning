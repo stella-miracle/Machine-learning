{
  "nbformat": 4,
  "nbformat_minor": 0,
  "metadata": {
    "colab": {
      "name": "Decision_tree_sklearn.ipynb",
      "provenance": [],
      "collapsed_sections": [],
      "authorship_tag": "ABX9TyPAAZKN8Ho08GzF2p+poHDA"
    },
    "kernelspec": {
      "name": "python3",
      "display_name": "Python 3"
    },
    "language_info": {
      "name": "python"
    },
    "accelerator": "GPU"
  },
  "cells": [
    {
      "cell_type": "code",
      "execution_count": 5,
      "metadata": {
        "colab": {
          "base_uri": "https://localhost:8080/"
        },
        "id": "a4xFKX_nEGRu",
        "outputId": "ca9f6973-922e-4eee-fa37-ecfe778f7e71"
      },
      "outputs": [
        {
          "output_type": "stream",
          "name": "stdout",
          "text": [
            "7\n",
            "15\n",
            "[1 1 1]\n",
            "accuracy:0.912 , precision:0.981, recall:0.888\n"
          ]
        }
      ],
      "source": [
        "from sklearn.datasets import load_breast_cancer\n",
        "from sklearn.model_selection import train_test_split\n",
        "\n",
        "cancer=load_breast_cancer()\n",
        "\n",
        "x_train,x_test,y_train,y_test= train_test_split(cancer.data,cancer.target,test_size=0.3,random_state=13)\n",
        "\n",
        "#학습과정 \n",
        "from sklearn.tree import DecisionTreeClassifier\n",
        "\n",
        "tree = DecisionTreeClassifier(random_state=12)\n",
        "tree.fit(x_train,y_train)\n",
        "\n",
        "#트리깊이, leaf node 출력 \n",
        "print(tree.get_depth())\n",
        "print(tree.get_n_leaves())\n",
        "\n",
        "y_pred=tree.predict(x_test)\n",
        "print(y_pred[:3])\n",
        "\n",
        "#성능지표 - > 실제 결과& 예측 결과 \n",
        "from sklearn.metrics import accuracy_score,precision_score,recall_score\n",
        "\n",
        "accuracy = accuracy_score(y_test, y_pred)\n",
        "precision = precision_score(y_test, y_pred)\n",
        "recall = recall_score(y_test, y_pred)\n",
        "\n",
        "print(\"accuracy:{0:.3f} , precision:{1:.3f}, recall:{2:.3f}\".format(accuracy,precision, recall))\n"
      ]
    },
    {
      "cell_type": "code",
      "source": [
        ""
      ],
      "metadata": {
        "id": "1ffN0D7hGukg"
      },
      "execution_count": null,
      "outputs": []
    }
  ]
}