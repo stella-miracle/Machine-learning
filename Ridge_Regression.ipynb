{
  "nbformat": 4,
  "nbformat_minor": 0,
  "metadata": {
    "colab": {
      "name": "Ridge_Regression.ipynb",
      "provenance": [],
      "authorship_tag": "ABX9TyM4MTKveyz7VNYRJldQSzUb"
    },
    "kernelspec": {
      "name": "python3",
      "display_name": "Python 3"
    },
    "language_info": {
      "name": "python"
    }
  },
  "cells": [
    {
      "cell_type": "markdown",
      "source": [
        "# 릿지 회귀"
      ],
      "metadata": {
        "id": "aR41MywQdqhB"
      }
    },
    {
      "cell_type": "code",
      "execution_count": 2,
      "metadata": {
        "id": "4D_dggfqar5l"
      },
      "outputs": [],
      "source": [
        "import numpy as np\n",
        "import pandas as pd\n",
        "import matplotlib.pyplot as plt\n",
        "\n",
        "from sklearn.datasets import load_boston\n",
        "from sklearn.model_selection import train_test_split\n",
        "from sklearn.linear_model import Ridge\n"
      ]
    },
    {
      "cell_type": "code",
      "source": [
        "bt = load_boston()\n",
        "\n",
        "x_train , x_test, y_train, y_test = train_test_split(bt.data, bt.target,test_size = 0.3, random_state=12)"
      ],
      "metadata": {
        "colab": {
          "base_uri": "https://localhost:8080/"
        },
        "id": "dss25QjyeRme",
        "outputId": "2bfa90cb-6216-4d7c-89f1-234c979acc70"
      },
      "execution_count": 3,
      "outputs": [
        {
          "output_type": "stream",
          "name": "stderr",
          "text": [
            "/usr/local/lib/python3.7/dist-packages/sklearn/utils/deprecation.py:87: FutureWarning: Function load_boston is deprecated; `load_boston` is deprecated in 1.0 and will be removed in 1.2.\n",
            "\n",
            "    The Boston housing prices dataset has an ethical problem. You can refer to\n",
            "    the documentation of this function for further details.\n",
            "\n",
            "    The scikit-learn maintainers therefore strongly discourage the use of this\n",
            "    dataset unless the purpose of the code is to study and educate about\n",
            "    ethical issues in data science and machine learning.\n",
            "\n",
            "    In this special case, you can fetch the dataset from the original\n",
            "    source::\n",
            "\n",
            "        import pandas as pd\n",
            "        import numpy as np\n",
            "\n",
            "\n",
            "        data_url = \"http://lib.stat.cmu.edu/datasets/boston\"\n",
            "        raw_df = pd.read_csv(data_url, sep=\"\\s+\", skiprows=22, header=None)\n",
            "        data = np.hstack([raw_df.values[::2, :], raw_df.values[1::2, :2]])\n",
            "        target = raw_df.values[1::2, 2]\n",
            "\n",
            "    Alternative datasets include the California housing dataset (i.e.\n",
            "    :func:`~sklearn.datasets.fetch_california_housing`) and the Ames housing\n",
            "    dataset. You can load the datasets as follows::\n",
            "\n",
            "        from sklearn.datasets import fetch_california_housing\n",
            "        housing = fetch_california_housing()\n",
            "\n",
            "    for the California housing dataset and::\n",
            "\n",
            "        from sklearn.datasets import fetch_openml\n",
            "        housing = fetch_openml(name=\"house_prices\", as_frame=True)\n",
            "\n",
            "    for the Ames housing dataset.\n",
            "    \n",
            "  warnings.warn(msg, category=FutureWarning)\n"
          ]
        }
      ]
    },
    {
      "cell_type": "code",
      "source": [
        "# 규제를 위한 alpha 값 초기화\n",
        "# alpha 값을 통해 penalty 값 조절 가능 \n",
        "alpha = 0.1"
      ],
      "metadata": {
        "id": "qYIcEFWUethP"
      },
      "execution_count": 29,
      "outputs": []
    },
    {
      "cell_type": "code",
      "source": [
        "ridge = Ridge(alpha = alpha)"
      ],
      "metadata": {
        "id": "qZhPj2jTe7Xt"
      },
      "execution_count": 30,
      "outputs": []
    },
    {
      "cell_type": "code",
      "source": [
        "ridge.fit(x_train, y_train)"
      ],
      "metadata": {
        "colab": {
          "base_uri": "https://localhost:8080/"
        },
        "id": "b1yYbdUefCbC",
        "outputId": "4e6a64fb-b746-48a0-967c-f39e48cd2ed4"
      },
      "execution_count": 31,
      "outputs": [
        {
          "output_type": "execute_result",
          "data": {
            "text/plain": [
              "Ridge(alpha=0.1)"
            ]
          },
          "metadata": {},
          "execution_count": 31
        }
      ]
    },
    {
      "cell_type": "code",
      "source": [
        "result = ridge.predict(x_test)"
      ],
      "metadata": {
        "id": "aaXgFXekfHTt"
      },
      "execution_count": 32,
      "outputs": []
    },
    {
      "cell_type": "code",
      "source": [
        "r2_test = ridge.score(x_test, y_test)\n",
        "r2_train = ridge.score(x_train, y_train)\n",
        "print('r2_test:{0:.3f}', format(r2_test))\n",
        "print('r2_train:{0:.3f}', format(r2_train))\n",
        "# 회귀 모델이 주어진 자료에 얼마나 적합한 자료인지 보여주는 척도.\n"
      ],
      "metadata": {
        "colab": {
          "base_uri": "https://localhost:8080/"
        },
        "id": "u9K4xXbafMfO",
        "outputId": "95a4ca71-bbf2-401d-afd2-99b62e033682"
      },
      "execution_count": 33,
      "outputs": [
        {
          "output_type": "stream",
          "name": "stdout",
          "text": [
            "r2_test:{0:.3f} 0.708329348002711\n",
            "r2_train:{0:.3f} 0.7482023220066704\n"
          ]
        }
      ]
    },
    {
      "cell_type": "code",
      "source": [
        "# 각 컬럼별 회귀 변수  값.\n",
        "coef_table = pd.Series(data=np.round(ridge.coef_,1),index=bt.feature_names)\n",
        "print(\"내림차순 장렬\", coef_table.sort_values(ascending=False))"
      ],
      "metadata": {
        "colab": {
          "base_uri": "https://localhost:8080/"
        },
        "id": "8eiL-cXrfunm",
        "outputId": "f9037ab4-315c-4eb6-b959-01f3b694037a"
      },
      "execution_count": 34,
      "outputs": [
        {
          "output_type": "stream",
          "name": "stdout",
          "text": [
            "내림차순 장렬 RM          3.6\n",
            "CHAS        3.3\n",
            "RAD         0.3\n",
            "ZN          0.1\n",
            "INDUS       0.1\n",
            "AGE         0.0\n",
            "TAX        -0.0\n",
            "B           0.0\n",
            "CRIM       -0.1\n",
            "LSTAT      -0.6\n",
            "PTRATIO    -0.8\n",
            "DIS        -1.3\n",
            "NOX       -15.7\n",
            "dtype: float64\n"
          ]
        }
      ]
    },
    {
      "cell_type": "code",
      "source": [
        "# 시각화\n",
        "plt.figure(figsize=(10,5))\n",
        "coef_table.plot(kind='bar')\n",
        "plt.ylim(-12,5)\n",
        "plt.show()\n"
      ],
      "metadata": {
        "colab": {
          "base_uri": "https://localhost:8080/",
          "height": 351
        },
        "id": "bg3rupuehrSz",
        "outputId": "d986ab70-1d40-4ae0-aa4f-759866e2074c"
      },
      "execution_count": 35,
      "outputs": [
        {
          "output_type": "display_data",
          "data": {
            "text/plain": [
              "<Figure size 720x360 with 1 Axes>"
            ],
            "image/png": "[encoded data removed]"
          },
          "metadata": {
            "needs_background": "light"
          }
        }
      ]
    },
    {
      "cell_type": "markdown",
      "source": [
        "# 이때 알파값이 증가할 수록 1에 가까워지고\n",
        "# 패널티를 조절하고 과대적합을 줄이면서\n",
        "# 일반성을 가지는 모델을 생성 할 수 있게 된다! -> 릿지 규제 기법 사용 "
      ],
      "metadata": {
        "id": "jYp8WOzniLHr"
      }
    }
  ]
}