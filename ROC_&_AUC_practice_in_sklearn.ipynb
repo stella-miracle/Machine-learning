{
  "nbformat": 4,
  "nbformat_minor": 0,
  "metadata": {
    "colab": {
      "name": "ROC & AUC practice in sklearn.ipynb",
      "provenance": [],
      "collapsed_sections": [],
      "authorship_tag": "ABX9TyOQ0unE9xcwilvQoj1wkKh5"
    },
    "kernelspec": {
      "name": "python3",
      "display_name": "Python 3"
    },
    "language_info": {
      "name": "python"
    },
    "accelerator": "GPU"
  },
  "cells": [
    {
      "cell_type": "code",
      "execution_count": 39,
      "metadata": {
        "id": "BIRFcJE_BGoy",
        "colab": {
          "base_uri": "https://localhost:8080/",
          "height": 630
        },
        "outputId": "eb898bd6-b778-4d25-dfd9-5c8396d0dc56"
      },
      "outputs": [
        {
          "output_type": "stream",
          "name": "stdout",
          "text": [
            "   temp   atemp  humidity  windspeed\n",
            "0  9.84  14.395        81        0.0\n",
            "1  9.02  13.635        80        0.0\n",
            "2  9.02  13.635        80        0.0\n",
            "3  9.84  14.395        75        0.0\n",
            "4  9.84  14.395        75        0.0\n",
            "       temp     atemp  humidity  windspeed\n",
            "0 -1.333661 -1.092737  0.993213  -1.567754\n",
            "1 -1.438907 -1.182421  0.941249  -1.567754\n",
            "2 -1.438907 -1.182421  0.941249  -1.567754\n",
            "3 -1.333661 -1.092737  0.681430  -1.567754\n",
            "4 -1.333661 -1.092737  0.681430  -1.567754\n",
            "predicted class_prob (1st data) [0.95 0.05]\n",
            "target data index(1st data) 0\n",
            "sample threshold index(n=10): [   0  110  220  330  440  550  660  770  880  990 1100]\n",
            "sample threshold value(n=10): [1.46 0.19 0.14 0.1  0.08 0.06 0.04 0.04 0.03 0.02 0.01]\n",
            "sample threshold FPR(n=10): [0.    0.066 0.139 0.223 0.318 0.409 0.519 0.611 0.716 0.821 0.933]\n",
            "sample threshold TPR(n=10): [0.    0.257 0.443 0.587 0.691 0.774 0.843 0.887 0.935 0.978 1.   ]\n"
          ]
        },
        {
          "output_type": "display_data",
          "data": {
            "text/plain": [
              "<Figure size 432x288 with 1 Axes>"
            ],
            "image/png": "[encoded data removed]"
          },
          "metadata": {
            "needs_background": "light"
          }
        },
        {
          "output_type": "stream",
          "name": "stdout",
          "text": [
            "Testing data AUC :0.7473\n"
          ]
        }
      ],
      "source": [
        "from time import thread_time_ns\n",
        "\n",
        "import numpy as np\n",
        "import pandas as pd\n",
        "\n",
        "from sklearn.preprocessing import StandardScaler\n",
        "from sklearn.model_selection import train_test_split\n",
        "from sklearn.linear_model import LogisticRegression\n",
        "\n",
        "from sklearn.metrics import confusion_matrix\n",
        "from sklearn.metrics import accuracy_score\n",
        "from sklearn.metrics import precision_score\n",
        "from sklearn.metrics import recall_score\n",
        "\n",
        "url = 'https://codepresso-online-platform-public.s3.ap-northeast-2.amazonaws.com/learning-resourse/python-machine-learning-20210326/bike-demand.csv'\n",
        "df_bike = pd.read_csv(url)\n",
        "\n",
        "x_df_bike = df_bike.iloc[:,5:9]\n",
        "print(x_df_bike.head(5))\n",
        "\n",
        "#종속변수 선언 -> 이진화 작업 필요-> DataFrame 필요 \n",
        "df_bike['y'] = 1\n",
        "df_bike.loc[df_bike['count']<500, 'y'] = 0\n",
        "y = df_bike['y']\n",
        "\n",
        "# 데이터를 동등한 선상에서 비교하기 위한 표준화 \n",
        "scaler=StandardScaler()\n",
        "scaler.fit(x_df_bike)\n",
        "result=scaler.transform(x_df_bike)\n",
        "\n",
        "dataframe = pd.DataFrame(data = result, columns = x_df_bike.columns)\n",
        "print(dataframe.iloc[:5])\n",
        "\n",
        "x_train,x_test,y_train,y_test = train_test_split(dataframe,y, test_size=0.3, random_state=13)\n",
        "\n",
        "logit= LogisticRegression()\n",
        "logit.fit(x_train, y_train)\n",
        "\n",
        "#roc_curve  메소드 코딩 \n",
        "from sklearn.metrics import roc_curve\n",
        "\n",
        "#각각의 클래스 별 확률값 -> 모델의 예측 데이터 \n",
        "predict_prob = logit.predict_proba(x_test)\n",
        "print(\"predicted class_prob (1st data)\", np.round(predict_prob[0],3))\n",
        "# 모델의 정답 데이터 \n",
        "print(\"target data index(1st data)\",y_test.values[0])\n",
        "\n",
        "\n",
        "#threshold value 생성 \n",
        "# positive 한 값만 골라오기 위해 슬라이싱 진행 \n",
        "fprs , tprs , thresholds = roc_curve(y_test,predict_prob[:,1]) \n",
        "\n",
        "thr_index = np.arange(0,thresholds.shape[0],110)\n",
        "print('sample threshold index(n=10):',thr_index )\n",
        "print('sample threshold value(n=10):',np.round(thresholds[thr_index],2))\n",
        "print('sample threshold FPR(n=10):',np.round(fprs[thr_index],3))\n",
        "print('sample threshold TPR(n=10):',np.round(tprs[thr_index],3))\n",
        "\n",
        "# ROC 그릭기 위한 함수 \n",
        "def roc_curve_plot(y_test , pred_proba_c1):\n",
        "    import matplotlib.pyplot as plt\n",
        "    fprs , tprs , thresholds = roc_curve(y_test ,pred_proba_c1)\n",
        "\n",
        "    plt.plot(fprs , tprs, label='ROC')\n",
        "    plt.plot([0, 1], [0, 1], 'k--', label='Random')\n",
        "    \n",
        "    start, end = plt.xlim()\n",
        "    plt.xticks(np.round(np.arange(start, end, 0.1),2))\n",
        "    plt.xlim(0,1); plt.ylim(0,1)\n",
        "    plt.xlabel('FPR'); plt.ylabel('TPR( Recall )')\n",
        "    plt.legend()\n",
        "    plt.show()\n",
        "\n",
        "roc_curve_plot(y_test,logit.predict_proba(x_test)[:,1])\n",
        "# positive 한 값만 가져오기 위해슬라이싱 \n",
        " \n",
        "# AUC\n",
        "from sklearn.metrics import roc_auc_score\n",
        "roc_score = roc_auc_score(y_test.values , predict_prob[:,1])\n",
        "print(\"Testing data AUC :{0:.4f}\".format(roc_score))\n"
      ]
    },
    {
      "cell_type": "code",
      "source": [
        "\n"
      ],
      "metadata": {
        "id": "eL6e-48KDiNy"
      },
      "execution_count": null,
      "outputs": []
    }
  ]
}