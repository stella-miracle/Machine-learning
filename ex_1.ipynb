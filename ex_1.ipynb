{
  "nbformat": 4,
  "nbformat_minor": 0,
  "metadata": {
    "colab": {
      "name": "ex_1.ipynb",
      "provenance": [],
      "authorship_tag": "ABX9TyNSrXYCm7cFNMdB4Wy4dowd"
    },
    "kernelspec": {
      "name": "python3",
      "display_name": "Python 3"
    },
    "language_info": {
      "name": "python"
    }
  },
  "cells": [
    {
      "cell_type": "markdown",
      "metadata": {
        "id": "5UDmZpnDEsjU"
      },
      "source": [
        "#1. sklearn 으로 머신러닝 사용\n",
        "\n",
        "-> sklearn.dataset 중 load_iris() 클래스 이용\n",
        "\n",
        "-> 데이터 속성 확인 \n",
        "\n",
        "-> 1. 데이터 준비 - 데이터 분할 \n",
        "\n",
        "-> 2. 학습 알고리즘 선택 - 객체 생성 \n",
        "\n",
        "-> 3. 모델 학습 \n",
        "\n",
        "-> 4. 모델 검증\n",
        "\n",
        "-> 5. 모델 평가"
      ]
    },
    {
      "cell_type": "code",
      "metadata": {
        "colab": {
          "base_uri": "https://localhost:8080/"
        },
        "id": "O1aXMjPoDbzH",
        "outputId": "57924bf3-56f9-4908-ba00-99bcc5f24114"
      },
      "source": [
        "import sklearn \n",
        "print(sklearn.__version__)"
      ],
      "execution_count": 1,
      "outputs": [
        {
          "output_type": "stream",
          "name": "stdout",
          "text": [
            "0.22.2.post1\n"
          ]
        }
      ]
    },
    {
      "cell_type": "markdown",
      "metadata": {
        "id": "WxOiqVKDPALt"
      },
      "source": [
        "load_iris() dataset\n",
        "\n",
        "-> 꽃잎의 길이와 넓이, 꽃받침의 길이와 넓이 \n",
        "   \n",
        "   총 4개의 데이터를 가지고\n",
        "   \n",
        "   setosa , versicolor , virginica \n",
        "   \n",
        "   \n",
        "   3개의 종류로 분류하는 모델 생성 \n",
        "\n",
        "-> 분류모델은 kneighborsclassifier 사용 "
      ]
    },
    {
      "cell_type": "code",
      "metadata": {
        "id": "Pd0UVMeeEqm1"
      },
      "source": [
        "from sklearn.datasets import load_iris\n",
        "from sklearn.model_selection import train_test_split\n",
        "from sklearn.neighbors import KNeighborsClassifier\n",
        "import pandas as pd"
      ],
      "execution_count": 26,
      "outputs": []
    },
    {
      "cell_type": "code",
      "metadata": {
        "id": "etFy3_ReOrUk"
      },
      "source": [
        "iris = load_iris()"
      ],
      "execution_count": 17,
      "outputs": []
    },
    {
      "cell_type": "code",
      "metadata": {
        "colab": {
          "base_uri": "https://localhost:8080/"
        },
        "id": "zlBEtnYHPteO",
        "outputId": "2711fdfa-08f6-419a-b41b-fd4f22e420b4"
      },
      "source": [
        "print(iris.DESCR)"
      ],
      "execution_count": 20,
      "outputs": [
        {
          "output_type": "stream",
          "name": "stdout",
          "text": [
            ".. _iris_dataset:\n",
            "\n",
            "Iris plants dataset\n",
            "--------------------\n",
            "\n",
            "**Data Set Characteristics:**\n",
            "\n",
            "    :Number of Instances: 150 (50 in each of three classes)\n",
            "    :Number of Attributes: 4 numeric, predictive attributes and the class\n",
            "    :Attribute Information:\n",
            "        - sepal length in cm\n",
            "        - sepal width in cm\n",
            "        - petal length in cm\n",
            "        - petal width in cm\n",
            "        - class:\n",
            "                - Iris-Setosa\n",
            "                - Iris-Versicolour\n",
            "                - Iris-Virginica\n",
            "                \n",
            "    :Summary Statistics:\n",
            "\n",
            "    ============== ==== ==== ======= ===== ====================\n",
            "                    Min  Max   Mean    SD   Class Correlation\n",
            "    ============== ==== ==== ======= ===== ====================\n",
            "    sepal length:   4.3  7.9   5.84   0.83    0.7826\n",
            "    sepal width:    2.0  4.4   3.05   0.43   -0.4194\n",
            "    petal length:   1.0  6.9   3.76   1.76    0.9490  (high!)\n",
            "    petal width:    0.1  2.5   1.20   0.76    0.9565  (high!)\n",
            "    ============== ==== ==== ======= ===== ====================\n",
            "\n",
            "    :Missing Attribute Values: None\n",
            "    :Class Distribution: 33.3% for each of 3 classes.\n",
            "    :Creator: R.A. Fisher\n",
            "    :Donor: Michael Marshall (MARSHALL%PLU@io.arc.nasa.gov)\n",
            "    :Date: July, 1988\n",
            "\n",
            "The famous Iris database, first used by Sir R.A. Fisher. The dataset is taken\n",
            "from Fisher's paper. Note that it's the same as in R, but not as in the UCI\n",
            "Machine Learning Repository, which has two wrong data points.\n",
            "\n",
            "This is perhaps the best known database to be found in the\n",
            "pattern recognition literature.  Fisher's paper is a classic in the field and\n",
            "is referenced frequently to this day.  (See Duda & Hart, for example.)  The\n",
            "data set contains 3 classes of 50 instances each, where each class refers to a\n",
            "type of iris plant.  One class is linearly separable from the other 2; the\n",
            "latter are NOT linearly separable from each other.\n",
            "\n",
            ".. topic:: References\n",
            "\n",
            "   - Fisher, R.A. \"The use of multiple measurements in taxonomic problems\"\n",
            "     Annual Eugenics, 7, Part II, 179-188 (1936); also in \"Contributions to\n",
            "     Mathematical Statistics\" (John Wiley, NY, 1950).\n",
            "   - Duda, R.O., & Hart, P.E. (1973) Pattern Classification and Scene Analysis.\n",
            "     (Q327.D83) John Wiley & Sons.  ISBN 0-471-22361-1.  See page 218.\n",
            "   - Dasarathy, B.V. (1980) \"Nosing Around the Neighborhood: A New System\n",
            "     Structure and Classification Rule for Recognition in Partially Exposed\n",
            "     Environments\".  IEEE Transactions on Pattern Analysis and Machine\n",
            "     Intelligence, Vol. PAMI-2, No. 1, 67-71.\n",
            "   - Gates, G.W. (1972) \"The Reduced Nearest Neighbor Rule\".  IEEE Transactions\n",
            "     on Information Theory, May 1972, 431-433.\n",
            "   - See also: 1988 MLC Proceedings, 54-64.  Cheeseman et al\"s AUTOCLASS II\n",
            "     conceptual clustering system finds 3 classes in the data.\n",
            "   - Many, many more ...\n"
          ]
        }
      ]
    },
    {
      "cell_type": "code",
      "metadata": {
        "colab": {
          "base_uri": "https://localhost:8080/"
        },
        "id": "qTEbGJNnPyo9",
        "outputId": "e3e0d66c-8543-4891-f34a-bc0cf6889d8c"
      },
      "source": [
        "print('iris data shape',iris.data.shape)\n",
        "print('iris feature name', iris.feature_names)\n",
        "# print('iris data',iris.data)\n",
        "print('iris data type', type(iris.data))"
      ],
      "execution_count": 30,
      "outputs": [
        {
          "output_type": "stream",
          "name": "stdout",
          "text": [
            "iris data shape (150, 4)\n",
            "iris feature name ['sepal length (cm)', 'sepal width (cm)', 'petal length (cm)', 'petal width (cm)']\n",
            "iris data type <class 'numpy.ndarray'>\n"
          ]
        }
      ]
    },
    {
      "cell_type": "code",
      "metadata": {
        "colab": {
          "base_uri": "https://localhost:8080/"
        },
        "id": "fbnIikrCS6xA",
        "outputId": "ba9bfdb7-9861-45f0-ef64-0128a0a6f4d8"
      },
      "source": [
        "# 데이터 준비\n",
        "print('iris target data', iris.target_names) #결과 값 \n",
        "print('iris target value', iris.target)"
      ],
      "execution_count": 33,
      "outputs": [
        {
          "output_type": "stream",
          "name": "stdout",
          "text": [
            "iris target data ['setosa' 'versicolor' 'virginica']\n",
            "iris target value [0 0 0 0 0 0 0 0 0 0 0 0 0 0 0 0 0 0 0 0 0 0 0 0 0 0 0 0 0 0 0 0 0 0 0 0 0\n",
            " 0 0 0 0 0 0 0 0 0 0 0 0 0 1 1 1 1 1 1 1 1 1 1 1 1 1 1 1 1 1 1 1 1 1 1 1 1\n",
            " 1 1 1 1 1 1 1 1 1 1 1 1 1 1 1 1 1 1 1 1 1 1 1 1 1 1 2 2 2 2 2 2 2 2 2 2 2\n",
            " 2 2 2 2 2 2 2 2 2 2 2 2 2 2 2 2 2 2 2 2 2 2 2 2 2 2 2 2 2 2 2 2 2 2 2 2 2\n",
            " 2 2]\n"
          ]
        }
      ]
    },
    {
      "cell_type": "code",
      "metadata": {
        "colab": {
          "base_uri": "https://localhost:8080/"
        },
        "id": "Kf8b1omvT41e",
        "outputId": "1717fa69-2a0d-45c3-8e69-9dea352ae399"
      },
      "source": [
        "# 데이터 분할 - train, test\n",
        "x_train,x_test, y_train,y_test = train_test_split(iris.data, iris.target,test_size=0.3,\n",
        "                                                  random_state=11)\n",
        "\n",
        "# shape 확인 \n",
        "print('x_train_shape',x_train.shape)\n",
        "print('x_test_shape',x_test.shape)\n",
        "print('y_train_shape',y_train.shape)\n",
        "print('y_test_shape',y_test.shape)"
      ],
      "execution_count": 37,
      "outputs": [
        {
          "output_type": "stream",
          "name": "stdout",
          "text": [
            "x_train_shape (105, 4)\n",
            "x_test_shape (45, 4)\n",
            "y_train_shape (105,)\n",
            "y_test_shape (45,)\n"
          ]
        }
      ]
    },
    {
      "cell_type": "code",
      "metadata": {
        "colab": {
          "base_uri": "https://localhost:8080/"
        },
        "id": "D42FsJ-4To7G",
        "outputId": "c2ccdc82-d8b3-405b-d094-95290aa167f4"
      },
      "source": [
        "# 학습 알고리즘 선택-KNN -> label 값이 존재하므로 학습-다중 분류 문제에 어울리는 알고리즘 선택\n",
        "knn = KNeighborsClassifier(n_neighbors=8)\n",
        "print(type(knn))"
      ],
      "execution_count": 39,
      "outputs": [
        {
          "output_type": "stream",
          "name": "stdout",
          "text": [
            "<class 'sklearn.neighbors._classification.KNeighborsClassifier'>\n"
          ]
        }
      ]
    },
    {
      "cell_type": "code",
      "metadata": {
        "colab": {
          "base_uri": "https://localhost:8080/"
        },
        "id": "7NBMdIv2VOQ-",
        "outputId": "3df5acc8-d275-4513-de1c-146abffc1e6a"
      },
      "source": [
        "# 모델 학습\n",
        "knn.fit(x_train,y_train)"
      ],
      "execution_count": 41,
      "outputs": [
        {
          "output_type": "execute_result",
          "data": {
            "text/plain": [
              "KNeighborsClassifier(algorithm='auto', leaf_size=30, metric='minkowski',\n",
              "                     metric_params=None, n_jobs=None, n_neighbors=8, p=2,\n",
              "                     weights='uniform')"
            ]
          },
          "metadata": {},
          "execution_count": 41
        }
      ]
    },
    {
      "cell_type": "code",
      "metadata": {
        "colab": {
          "base_uri": "https://localhost:8080/"
        },
        "id": "EdAXH6PlVVXL",
        "outputId": "de8d5518-746f-438b-ffe1-90f60c0ea8f3"
      },
      "source": [
        "# 모델 예측\n",
        "y_pred = knn.predict(x_test)\n",
        "print(\"Prediction:\", y_pred)"
      ],
      "execution_count": 42,
      "outputs": [
        {
          "output_type": "stream",
          "name": "stdout",
          "text": [
            "Prediction: [2 2 2 1 2 0 1 0 0 1 2 1 1 2 2 0 2 1 2 2 1 0 0 1 0 0 2 1 0 1 0 2 2 0 0 2 2\n",
            " 1 0 2 1 2 0 1 2]\n"
          ]
        }
      ]
    },
    {
      "cell_type": "code",
      "metadata": {
        "colab": {
          "base_uri": "https://localhost:8080/"
        },
        "id": "xCEOnOuXVjx5",
        "outputId": "5d429ab3-643c-4c38-90de-f65d331adb16"
      },
      "source": [
        "# 모델 평가\n",
        "score = knn.score(x_test,y_test)\n",
        "print(\"Accuracy:{0:.5f}\".format(score))\n",
        "# 1에 근접할수록 높은 정확도를 나타냄."
      ],
      "execution_count": 44,
      "outputs": [
        {
          "output_type": "stream",
          "name": "stdout",
          "text": [
            "Accuracy:0.97778\n"
          ]
        }
      ]
    }
  ]
}