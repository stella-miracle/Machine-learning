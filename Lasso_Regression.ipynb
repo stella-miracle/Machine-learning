{
  "nbformat": 4,
  "nbformat_minor": 0,
  "metadata": {
    "colab": {
      "name": "Lasso_Regression.ipynb",
      "provenance": [],
      "authorship_tag": "ABX9TyN+krXN+Tgy5D8ADhXEzAQH"
    },
    "kernelspec": {
      "name": "python3",
      "display_name": "Python 3"
    },
    "language_info": {
      "name": "python"
    }
  },
  "cells": [
    {
      "cell_type": "code",
      "execution_count": null,
      "metadata": {
        "id": "W17DMImjjCJH"
      },
      "outputs": [],
      "source": [
        "import numpy as np\n",
        "import pandas as pd\n",
        "import matplotlib.pyplot as plt\n",
        "\n",
        "from sklearn.datasets import load_boston\n",
        "from sklearn.model_selection import train_test_split\n",
        "from sklearn.linear_model import Lasso"
      ]
    },
    {
      "cell_type": "code",
      "source": [
        "boston = load_boston()\n",
        "\n",
        "x_train, x_test, y_train, y_test = train_test_split(boston.data, boston.target, test_size = 0.3, random_state=12)\n",
        "\n",
        "# 규제를 위한 alpha 값 설정\n",
        "alpha = 0.1\n",
        "\n",
        "lasso = Lasso(alpha=alpha)\n",
        "\n",
        "lasso.fit(x_train, y_train)\n",
        "\n",
        "result = lasso.predict(x_test)\n",
        "\n",
        "# R^2  값 확인 \n",
        "r2_train = lasso.score(x_train, y_train)\n",
        "print(\"r2_train:{0:.3f}\", format(r2_train))\n",
        "\n",
        "# 컬럼별 회귀계수인 W  값 \n",
        "coef_table = pd.Series(data=np.round(lasso.coef_,1),index=boston.feature_names)\n",
        "print(\"내림차순 정리\",coef_table.sort_values(ascending=False))\n",
        "\n",
        "# 막대그래프 시각화\n",
        "plt.figure(figsize =(10,3))\n",
        "coef_table.plot(kind= 'bar')\n",
        "plt.ylim(-12,5)\n",
        "plt.show()\n"
      ],
      "metadata": {
        "id": "fow5VUZaj_8a",
        "colab": {
          "base_uri": "https://localhost:8080/",
          "height": 1000
        },
        "outputId": "2f52f44d-3b6d-4066-e8e9-d03ceee77cd3"
      },
      "execution_count": 3,
      "outputs": [
        {
          "output_type": "stream",
          "name": "stderr",
          "text": [
            "/usr/local/lib/python3.7/dist-packages/sklearn/utils/deprecation.py:87: FutureWarning: Function load_boston is deprecated; `load_boston` is deprecated in 1.0 and will be removed in 1.2.\n",
            "\n",
            "    The Boston housing prices dataset has an ethical problem. You can refer to\n",
            "    the documentation of this function for further details.\n",
            "\n",
            "    The scikit-learn maintainers therefore strongly discourage the use of this\n",
            "    dataset unless the purpose of the code is to study and educate about\n",
            "    ethical issues in data science and machine learning.\n",
            "\n",
            "    In this special case, you can fetch the dataset from the original\n",
            "    source::\n",
            "\n",
            "        import pandas as pd\n",
            "        import numpy as np\n",
            "\n",
            "\n",
            "        data_url = \"http://lib.stat.cmu.edu/datasets/boston\"\n",
            "        raw_df = pd.read_csv(data_url, sep=\"\\s+\", skiprows=22, header=None)\n",
            "        data = np.hstack([raw_df.values[::2, :], raw_df.values[1::2, :2]])\n",
            "        target = raw_df.values[1::2, 2]\n",
            "\n",
            "    Alternative datasets include the California housing dataset (i.e.\n",
            "    :func:`~sklearn.datasets.fetch_california_housing`) and the Ames housing\n",
            "    dataset. You can load the datasets as follows::\n",
            "\n",
            "        from sklearn.datasets import fetch_california_housing\n",
            "        housing = fetch_california_housing()\n",
            "\n",
            "    for the California housing dataset and::\n",
            "\n",
            "        from sklearn.datasets import fetch_openml\n",
            "        housing = fetch_openml(name=\"house_prices\", as_frame=True)\n",
            "\n",
            "    for the Ames housing dataset.\n",
            "    \n",
            "  warnings.warn(msg, category=FutureWarning)\n"
          ]
        },
        {
          "output_type": "stream",
          "name": "stdout",
          "text": [
            "r2_train:{0:.3f} 0.7358607476241799\n",
            "내림차순 정리 RM         3.4\n",
            "CHAS       1.8\n",
            "RAD        0.3\n",
            "ZN         0.1\n",
            "INDUS      0.0\n",
            "NOX       -0.0\n",
            "AGE        0.0\n",
            "TAX       -0.0\n",
            "B          0.0\n",
            "CRIM      -0.1\n",
            "PTRATIO   -0.6\n",
            "LSTAT     -0.7\n",
            "DIS       -1.1\n",
            "dtype: float64\n"
          ]
        },
        {
          "output_type": "display_data",
          "data": {
            "text/plain": [
              "<Figure size 720x216 with 1 Axes>"
            ],
            "image/png": "[encoded data removed]"
          },
          "metadata": {
            "needs_background": "light"
          }
        }
      ]
    }
  ]
}