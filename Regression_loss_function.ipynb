{
  "nbformat": 4,
  "nbformat_minor": 0,
  "metadata": {
    "colab": {
      "name": "Regression_loss function.ipynb",
      "provenance": [],
      "authorship_tag": "ABX9TyMZybxtmXM4Z7nsSi7b3iJi"
    },
    "kernelspec": {
      "name": "python3",
      "display_name": "Python 3"
    },
    "language_info": {
      "name": "python"
    }
  },
  "cells": [
    {
      "cell_type": "markdown",
      "source": [
        "# sklearn 을 활용한 선형 회귀 예제\n",
        "\n",
        "1. 회귀 분석을 위한 평가 지표\n",
        "  \n",
        "  * MSE (Mean Squared Error) \n",
        "  * MAE (Mean Absolute Error)\n",
        "  * RMSE (Root Mean Squared Error)\n",
        "  * MAPE (Mean Absolute Percentage Error)\n",
        "  \n",
        "  -> 각 값이 작으면 작을 수록 모델의 성능은 더 좋다.\n",
        "\n",
        "\n",
        "2. R-squared \n",
        "   \n",
        "  -> 추정한 회귀선이 주어진 데이터를 얼마나 잘 표현하였는지 보여준다.\n"
      ],
      "metadata": {
        "id": "2c-IkIawaXJH"
      }
    },
    {
      "cell_type": "markdown",
      "source": [
        "#LinerRegression API 의 Method 함수\n",
        "\n",
        "1. fit(x,y) : 모델의 회귀 계수 학습\n",
        "2. predict(x) : x에 대해 계산된 예측값 반환\n",
        "3. score(x,y) : 모델에 테스트 데이터를 입력하여 R^2 반환\n",
        "4. LinearRegression API 의 속성 -> \n",
        "                                   1. coef_ : 학습된 모델의 회귀 계수 (w)\n",
        "                                   2. intercept_ : 학습된 모델의 bias 값 (b)"
      ],
      "metadata": {
        "id": "MdmaA0Y1qXXi"
      }
    },
    {
      "cell_type": "code",
      "execution_count": 1,
      "metadata": {
        "id": "8_q9XoScXK4Y"
      },
      "outputs": [],
      "source": [
        "import numpy as np\n",
        "import pandas as pd\n",
        "\n",
        "from sklearn.datasets import load_boston\n",
        "from sklearn.model_selection import train_test_split\n",
        "from sklearn.linear_model import LinearRegression\n",
        "# 모델 성능 평가를 위한 모듈 로딩\n",
        "from sklearn import metrics"
      ]
    },
    {
      "cell_type": "code",
      "source": [
        "# 데이터 셋 로딩\n",
        "bt = load_boston()\n",
        "\n",
        "# 독립변수 모든 행이므로 13개 , 종속변수 1개 \n"
      ],
      "metadata": {
        "colab": {
          "base_uri": "https://localhost:8080/"
        },
        "id": "qre06f5yrYyB",
        "outputId": "8cbd094d-9d24-4f24-89c9-417f279ac42f"
      },
      "execution_count": 4,
      "outputs": [
        {
          "output_type": "stream",
          "name": "stderr",
          "text": [
            "/usr/local/lib/python3.7/dist-packages/sklearn/utils/deprecation.py:87: FutureWarning: Function load_boston is deprecated; `load_boston` is deprecated in 1.0 and will be removed in 1.2.\n",
            "\n",
            "    The Boston housing prices dataset has an ethical problem. You can refer to\n",
            "    the documentation of this function for further details.\n",
            "\n",
            "    The scikit-learn maintainers therefore strongly discourage the use of this\n",
            "    dataset unless the purpose of the code is to study and educate about\n",
            "    ethical issues in data science and machine learning.\n",
            "\n",
            "    In this special case, you can fetch the dataset from the original\n",
            "    source::\n",
            "\n",
            "        import pandas as pd\n",
            "        import numpy as np\n",
            "\n",
            "\n",
            "        data_url = \"http://lib.stat.cmu.edu/datasets/boston\"\n",
            "        raw_df = pd.read_csv(data_url, sep=\"\\s+\", skiprows=22, header=None)\n",
            "        data = np.hstack([raw_df.values[::2, :], raw_df.values[1::2, :2]])\n",
            "        target = raw_df.values[1::2, 2]\n",
            "\n",
            "    Alternative datasets include the California housing dataset (i.e.\n",
            "    :func:`~sklearn.datasets.fetch_california_housing`) and the Ames housing\n",
            "    dataset. You can load the datasets as follows::\n",
            "\n",
            "        from sklearn.datasets import fetch_california_housing\n",
            "        housing = fetch_california_housing()\n",
            "\n",
            "    for the California housing dataset and::\n",
            "\n",
            "        from sklearn.datasets import fetch_openml\n",
            "        housing = fetch_openml(name=\"house_prices\", as_frame=True)\n",
            "\n",
            "    for the Ames housing dataset.\n",
            "    \n",
            "  warnings.warn(msg, category=FutureWarning)\n"
          ]
        }
      ]
    },
    {
      "cell_type": "code",
      "source": [
        "# 13개의 독립변수가 존재하므로 데이터 셋 분할 필수\n",
        "x_train,x_test,y_train,y_test= train_test_split(bt.data, bt.target,test_size = 0.3 ,random_state=12)"
      ],
      "metadata": {
        "id": "T40uMJNergFZ"
      },
      "execution_count": 9,
      "outputs": []
    },
    {
      "cell_type": "code",
      "source": [
        "# 회귀 분석 객체 생성\n",
        "regression = LinearRegression()"
      ],
      "metadata": {
        "id": "T8y5rSfksN-t"
      },
      "execution_count": 10,
      "outputs": []
    },
    {
      "cell_type": "code",
      "source": [
        "# 학습 데이터 연결 및 학습 수행\n",
        "regression.fit(x_train, y_train)"
      ],
      "metadata": {
        "colab": {
          "base_uri": "https://localhost:8080/"
        },
        "id": "vsX237bAsVQZ",
        "outputId": "ebe324b0-a421-4825-9851-9b3d623ea850"
      },
      "execution_count": 11,
      "outputs": [
        {
          "output_type": "execute_result",
          "data": {
            "text/plain": [
              "LinearRegression()"
            ]
          },
          "metadata": {},
          "execution_count": 11
        }
      ]
    },
    {
      "cell_type": "code",
      "source": [
        "# 모델 예측\n",
        "y_pred = regression.predict(x_test)"
      ],
      "metadata": {
        "id": "bcj0YOGFsfAZ"
      },
      "execution_count": 12,
      "outputs": []
    },
    {
      "cell_type": "markdown",
      "source": [
        "# 여기까지 학습 완료 \n",
        "# 독립변수가 여러개 이므로 저마다 종속변수에 대해 영향을 주는 가중치 값이 다름\n",
        "# feature 의 수만큼 w 의 값이 존재하므로 w-13개, b-1 개가 존재함."
      ],
      "metadata": {
        "id": "yvltmdz4szBr"
      }
    },
    {
      "cell_type": "code",
      "source": [
        "weight = np.round(regression.coef_,1)\n",
        "# 지수로 길게 나올 수 있기에 반올림 함수 사용\n",
        "bias = np.round(regression.intercept_,2)\n",
        "print(weight, bias)"
      ],
      "metadata": {
        "colab": {
          "base_uri": "https://localhost:8080/"
        },
        "id": "gz1qg-LusxFa",
        "outputId": "37fbd9eb-825a-4168-9f4a-41fe18a892c1"
      },
      "execution_count": 13,
      "outputs": [
        {
          "output_type": "stream",
          "name": "stdout",
          "text": [
            "[ -0.1   0.1   0.1   3.3 -17.2   3.6   0.   -1.4   0.3  -0.   -0.8   0.\n",
            "  -0.6] 33.18\n"
          ]
        }
      ]
    },
    {
      "cell_type": "code",
      "source": [
        "# 각각의 coef_ 를 통해 회귀변수 출력\n",
        "coef_table = pd.Series(data=weight, index = bt.feature_names)\n",
        "print(coef_table.sort_values(ascending=False))\n",
        "\n",
        "# sort_values(ascending=False) -> 내림차순 정렬 함수"
      ],
      "metadata": {
        "colab": {
          "base_uri": "https://localhost:8080/"
        },
        "id": "9rIq8LgqvcRs",
        "outputId": "08124445-cff2-495d-f1ef-0655f34a1f83"
      },
      "execution_count": 17,
      "outputs": [
        {
          "output_type": "stream",
          "name": "stdout",
          "text": [
            "RM          3.6\n",
            "CHAS        3.3\n",
            "RAD         0.3\n",
            "ZN          0.1\n",
            "INDUS       0.1\n",
            "AGE         0.0\n",
            "TAX        -0.0\n",
            "B           0.0\n",
            "CRIM       -0.1\n",
            "LSTAT      -0.6\n",
            "PTRATIO    -0.8\n",
            "DIS        -1.4\n",
            "NOX       -17.2\n",
            "dtype: float64\n"
          ]
        }
      ]
    },
    {
      "cell_type": "code",
      "source": [
        "# 각 지표 계산 -> 손실함수 이용\n",
        "mse = metrics.mean_squared_error(y_test,y_pred)\n",
        "mae = metrics.mean_absolute_error(y_test,y_pred)\n",
        "rmse = np.sqrt(metrics.mean_squared_error(y_test,y_pred))\n",
        "mape = metrics.mean_absolute_percentage_error(y_test, y_pred)\n",
        "\n",
        "print(\"MSE : {0:.3f}\".format(mse))\n",
        "print(\"MAE : {0:.3f}\".format(mae))\n",
        "print(\"RMSE : {0:.3f}\".format(rmse))\n",
        "print(\"MAPE : {0:.3f}\".format(mape))\n"
      ],
      "metadata": {
        "colab": {
          "base_uri": "https://localhost:8080/"
        },
        "id": "i600UsF5vz67",
        "outputId": "eb35592b-48e1-4c2e-c7de-8c396961333d"
      },
      "execution_count": 22,
      "outputs": [
        {
          "output_type": "stream",
          "name": "stdout",
          "text": [
            "MSE : 25.549\n",
            "MAE : 3.606\n",
            "RMSE : 5.055\n",
            "MAPE : 0.177\n"
          ]
        }
      ]
    },
    {
      "cell_type": "code",
      "source": [
        "# 각 지표 계산 -> R^2 이용\n",
        "r2_score = regression.score(x_test, y_test)\n",
        "r2_metrics = metrics.r2_score(y_test, y_pred)\n",
        "\n",
        "print(\"r2_score:{0:.3f}\".format(r2_score))\n",
        "print(\"r2_metrics:{0:.3f}\".format(r2_metrics))\n"
      ],
      "metadata": {
        "colab": {
          "base_uri": "https://localhost:8080/"
        },
        "id": "ufRI4J1xxTeM",
        "outputId": "75b7e4bb-e741-4001-ca20-1009d05849c9"
      },
      "execution_count": 23,
      "outputs": [
        {
          "output_type": "stream",
          "name": "stdout",
          "text": [
            "r2_score:0.709\n",
            "r2_metrics:0.709\n"
          ]
        }
      ]
    }
  ]
}