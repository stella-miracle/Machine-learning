{
  "nbformat": 4,
  "nbformat_minor": 0,
  "metadata": {
    "colab": {
      "name": "decision_feature_2.ipynb",
      "provenance": [],
      "authorship_tag": "ABX9TyOzzc1qsEndVFjdF9U0pqr1"
    },
    "kernelspec": {
      "name": "python3",
      "display_name": "Python 3"
    },
    "language_info": {
      "name": "python"
    },
    "accelerator": "GPU"
  },
  "cells": [
    {
      "cell_type": "markdown",
      "source": [
        " 1. 모든 feature 의 다음단계 node에 대한 불순도, 엔드로피 계산\n",
        " \n",
        " 2. 불순도, 엔트로피가 가장 낮아지는 feature 선택\n",
        "\n",
        " 3. 모든 leaf node 의 불순도가 0이 될때까지 반복 "
      ],
      "metadata": {
        "id": "JTflnCblRrQQ"
      }
    },
    {
      "cell_type": "code",
      "execution_count": 6,
      "metadata": {
        "colab": {
          "base_uri": "https://localhost:8080/"
        },
        "id": "INYTX1juRkH5",
        "outputId": "d1aa7b74-76ca-4524-fa37-c463d397c92a"
      },
      "outputs": [
        {
          "output_type": "stream",
          "name": "stdout",
          "text": [
            "mean radius,0.000\n",
            "mean texture,0.000\n",
            "mean perimeter,0.000\n",
            "mean area,0.014\n",
            "mean smoothness,0.007\n",
            "mean compactness,0.000\n",
            "mean concavity,0.000\n",
            "mean concave points,0.041\n",
            "mean symmetry,0.000\n",
            "mean fractal dimension,0.000\n",
            "radius error,0.000\n",
            "texture error,0.000\n",
            "perimeter error,0.000\n",
            "area error,0.009\n",
            "smoothness error,0.000\n",
            "compactness error,0.000\n",
            "concavity error,0.000\n",
            "concave points error,0.024\n",
            "symmetry error,0.000\n",
            "fractal dimension error,0.000\n",
            "worst radius,0.011\n",
            "worst texture,0.024\n",
            "worst perimeter,0.777\n",
            "worst area,0.011\n",
            "worst smoothness,0.011\n",
            "worst compactness,0.000\n",
            "worst concavity,0.011\n",
            "worst concave points,0.061\n",
            "worst symmetry,0.000\n",
            "worst fractal dimension,0.000\n"
          ]
        }
      ],
      "source": [
        "from sklearn.datasets import load_breast_cancer\n",
        "from sklearn.model_selection import train_test_split\n",
        "from sklearn.tree import DecisionTreeClassifier\n",
        "\n",
        "cancer = load_breast_cancer()\n",
        "x_train, x_test, y_train, y_test = train_test_split(cancer.data, cancer.target,test_size=0.3, random_state=12)\n",
        "clf = DecisionTreeClassifier(random_state=12)\n",
        "clf.fit(x_train,y_train)\n",
        "\n",
        "\n",
        "# 학습된 모델의 feature importantance 확인\n",
        "for i in range(0,len(cancer.feature_names)):\n",
        "  print(\"{0},{1:.3f}\".format(cancer.feature_names[i], clf.feature_importances_[i]))\n"
      ]
    }
  ]
}