{
  "nbformat": 4,
  "nbformat_minor": 0,
  "metadata": {
    "colab": {
      "name": "Randm_forest.ipynb",
      "provenance": [],
      "authorship_tag": "ABX9TyOuLkPdYY8VukJUH5i2VR65"
    },
    "kernelspec": {
      "name": "python3",
      "display_name": "Python 3"
    },
    "language_info": {
      "name": "python"
    }
  },
  "cells": [
    {
      "cell_type": "code",
      "execution_count": 4,
      "metadata": {
        "colab": {
          "base_uri": "https://localhost:8080/"
        },
        "id": "7aW-RqbsvaRg",
        "outputId": "15aeaa0d-d847-45c1-df44-0d1fba5d6505"
      },
      "outputs": [
        {
          "output_type": "stream",
          "name": "stdout",
          "text": [
            "accuracy: 0.924\n"
          ]
        }
      ],
      "source": [
        "from sklearn.datasets import load_breast_cancer\n",
        "from sklearn.model_selection import train_test_split\n",
        "from sklearn.metrics import accuracy_score\n",
        "\n",
        "cancer = load_breast_cancer()\n",
        "x_train, x_test, y_train, y_test = train_test_split(cancer.data, cancer.target, test_size =0.3 , random_state=12)\n",
        "\n",
        "# randomforest \n",
        "from sklearn.ensemble import RandomForestClassifier\n",
        "random = RandomForestClassifier(random_state = 12)\n",
        "# n_estimaters default value is '100'\n",
        "random.fit(x_train,y_train)\n",
        "pred = random.predict(x_test)\n",
        "\n",
        "\n",
        "print('accuracy: {0:.3f}'.format(accuracy_score(y_test, pred)))"
      ]
    },
    {
      "cell_type": "code",
      "source": [
        ""
      ],
      "metadata": {
        "id": "rWCkmRXjwebn"
      },
      "execution_count": null,
      "outputs": []
    }
  ]
}