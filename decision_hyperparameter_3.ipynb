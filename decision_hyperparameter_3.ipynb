{
  "nbformat": 4,
  "nbformat_minor": 0,
  "metadata": {
    "colab": {
      "name": "decision_hyperparameter_3.ipynb",
      "provenance": [],
      "authorship_tag": "ABX9TyNru8CsPF1vgcc1ZL5H08yn"
    },
    "kernelspec": {
      "name": "python3",
      "display_name": "Python 3"
    },
    "language_info": {
      "name": "python"
    },
    "accelerator": "GPU"
  },
  "cells": [
    {
      "cell_type": "code",
      "execution_count": 9,
      "metadata": {
        "colab": {
          "base_uri": "https://localhost:8080/"
        },
        "id": "sK2yQmqFoPFq",
        "outputId": "149c726e-c490-4817-9add-5a54d50406b8"
      },
      "outputs": [
        {
          "output_type": "stream",
          "name": "stdout",
          "text": [
            "Max Depth:  6\n",
            "tree's n-node?: 13\n",
            "max depth: 3\n",
            "max n_leaves: 8\n",
            "max depth: 4\n",
            "max n_leaves: 9\n"
          ]
        }
      ],
      "source": [
        "from sklearn.datasets import load_breast_cancer\n",
        "from sklearn.model_selection import train_test_split\n",
        "from sklearn.tree import DecisionTreeClassifier\n",
        "\n",
        "cancer = load_breast_cancer()\n",
        "x_train,x_test,y_train,y_test = train_test_split(cancer.data, cancer.target, test_size =0.3 , random_state=12)\n",
        "\n",
        "clf = DecisionTreeClassifier(random_state = 12)\n",
        "clf.fit(x_train, y_train)\n",
        "\n",
        "print(\"Max Depth: \", clf.get_depth())\n",
        "print(\"tree's n-node?:\", clf.get_n_leaves())\n",
        "\n",
        "# max_depth : 3 으로 설정\n",
        "clf = DecisionTreeClassifier(random_state = 12, max_depth=3)\n",
        "clf.fit(x_train, y_train)\n",
        "print(\"max depth:\", clf.get_depth())\n",
        "print(\"max n_leaves:\", clf.get_n_leaves())\n",
        "\n",
        "\n",
        "# leaves 를 9로 설정\n",
        "clf = DecisionTreeClassifier(random_state = 12, max_leaf_nodes=9)\n",
        "clf.fit(x_train, y_train)\n",
        "print(\"max depth:\", clf.get_depth())\n",
        "print(\"max n_leaves:\", clf.get_n_leaves())\n",
        "\n"
      ]
    }
  ]
}