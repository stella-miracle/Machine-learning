{
  "nbformat": 4,
  "nbformat_minor": 0,
  "metadata": {
    "colab": {
      "name": "Regression_Boston.ipynb",
      "provenance": [],
      "authorship_tag": "ABX9TyNqNawd8RQC4eMNeMG6AfrE"
    },
    "kernelspec": {
      "name": "python3",
      "display_name": "Python 3"
    },
    "language_info": {
      "name": "python"
    }
  },
  "cells": [
    {
      "cell_type": "markdown",
      "source": [
        "#1. Regression model 을 위한 과정\n",
        "-> 회귀 분석에 사용할 데이터 확인\n",
        "  \n",
        "-> LinerRegression 클래스 객체 생성\n",
        "\n",
        "-> fit 메소드에 학습 데이터 전달 및 학습\n",
        "\n",
        "-> predict 메소드를 통해 학습된 모델 검증"
      ],
      "metadata": {
        "id": "ZQej43lT_HLy"
      }
    },
    {
      "cell_type": "code",
      "source": [
        "# 1. 회귀 분석에 사용할 데이터 확인 -> 보스턴 주택 가격 데이터 셋 사용\n",
        "# 머신러닝용 회귀 분석용 데이터로 총 13개의 feature , 1 개의 label 로 구성된 데이터 셋\n",
        "# 독립 변수는 5번째 컬럼인 방의 개수\n",
        "# 종속 변수는 마지막 13번째 컬럼인 주택 가격으로 결정\n",
        "\n",
        "# 필요한 라이브러리 선언\n",
        "import numpy as np\n",
        "import pandas as pd\n",
        "import matplotlib.pyplot as plt\n",
        "from sklearn.datasets import load_boston\n",
        "from sklearn.linear_model import LinearRegression\n"
      ],
      "metadata": {
        "id": "70uAAsfR_v8_"
      },
      "execution_count": 3,
      "outputs": []
    },
    {
      "cell_type": "code",
      "source": [
        "# 데이터 셋 불러오기\n",
        "bt = load_boston()\n",
        "print(bt.data.shape) "
      ],
      "metadata": {
        "colab": {
          "base_uri": "https://localhost:8080/"
        },
        "id": "P4Z__SXf_3uf",
        "outputId": "6d613c7a-6bf6-47e8-dc06-00854db9104e"
      },
      "execution_count": 6,
      "outputs": [
        {
          "output_type": "stream",
          "name": "stdout",
          "text": [
            "(506, 13)\n"
          ]
        },
        {
          "output_type": "stream",
          "name": "stderr",
          "text": [
            "/usr/local/lib/python3.7/dist-packages/sklearn/utils/deprecation.py:87: FutureWarning: Function load_boston is deprecated; `load_boston` is deprecated in 1.0 and will be removed in 1.2.\n",
            "\n",
            "    The Boston housing prices dataset has an ethical problem. You can refer to\n",
            "    the documentation of this function for further details.\n",
            "\n",
            "    The scikit-learn maintainers therefore strongly discourage the use of this\n",
            "    dataset unless the purpose of the code is to study and educate about\n",
            "    ethical issues in data science and machine learning.\n",
            "\n",
            "    In this special case, you can fetch the dataset from the original\n",
            "    source::\n",
            "\n",
            "        import pandas as pd\n",
            "        import numpy as np\n",
            "\n",
            "\n",
            "        data_url = \"http://lib.stat.cmu.edu/datasets/boston\"\n",
            "        raw_df = pd.read_csv(data_url, sep=\"\\s+\", skiprows=22, header=None)\n",
            "        data = np.hstack([raw_df.values[::2, :], raw_df.values[1::2, :2]])\n",
            "        target = raw_df.values[1::2, 2]\n",
            "\n",
            "    Alternative datasets include the California housing dataset (i.e.\n",
            "    :func:`~sklearn.datasets.fetch_california_housing`) and the Ames housing\n",
            "    dataset. You can load the datasets as follows::\n",
            "\n",
            "        from sklearn.datasets import fetch_california_housing\n",
            "        housing = fetch_california_housing()\n",
            "\n",
            "    for the California housing dataset and::\n",
            "\n",
            "        from sklearn.datasets import fetch_openml\n",
            "        housing = fetch_openml(name=\"house_prices\", as_frame=True)\n",
            "\n",
            "    for the Ames housing dataset.\n",
            "    \n",
            "  warnings.warn(msg, category=FutureWarning)\n"
          ]
        }
      ]
    },
    {
      "cell_type": "code",
      "source": [
        "# 독립변수, 종속변수 데이터 정의 \n",
        "x_independent = bt.data[:,5]\n",
        "y_dependent = bt.target\n",
        "print(\"독립변수 : \", x_independent[:3])\n",
        "print(\"종속변수 : \", y_dependent[:3])\n"
      ],
      "metadata": {
        "colab": {
          "base_uri": "https://localhost:8080/"
        },
        "id": "oOKF4GELArEx",
        "outputId": "a6f8423c-6e42-4c87-cb7c-f2de507c37c8"
      },
      "execution_count": 10,
      "outputs": [
        {
          "output_type": "stream",
          "name": "stdout",
          "text": [
            "독립변수 :  [6.575 6.421 7.185]\n",
            "종속변수 :  [24.  21.6 34.7]\n"
          ]
        }
      ]
    },
    {
      "cell_type": "code",
      "source": [
        "# 데이터의 분포 확인을 위해 산점도로 시각화\n",
        "plt.figure()\n",
        "# 산점도 : matplotlib 의 scatter 함수를 사용해 가능\n",
        "plt.scatter(x_independent, y_dependent)\n",
        "plt.xlabel('x')\n",
        "plt.ylabel('y')\n",
        "plt.show()\n"
      ],
      "metadata": {
        "colab": {
          "base_uri": "https://localhost:8080/",
          "height": 279
        },
        "id": "Le6Tyt4cB8Jk",
        "outputId": "df9e6b03-1c7d-4746-e42e-47c2d2fcb7cf"
      },
      "execution_count": 13,
      "outputs": [
        {
          "output_type": "display_data",
          "data": {
            "text/plain": [
              "<Figure size 432x288 with 1 Axes>"
            ],
            "image/png": "[encoded data removed]"
          },
          "metadata": {
            "needs_background": "light"
          }
        }
      ]
    },
    {
      "cell_type": "code",
      "source": [
        "# 2차원 데이터로 shape 변환\n",
        "x_independent=x_independent.reshape(-1,1)\n",
        "y_dependent= y_dependent.reshape(-1,1)\n",
        "print(x_independent.shape, y_dependent.shape)"
      ],
      "metadata": {
        "colab": {
          "base_uri": "https://localhost:8080/"
        },
        "id": "98VaDVQlCXIc",
        "outputId": "94b69a9f-197e-4390-fb11-05642b434beb"
      },
      "execution_count": 15,
      "outputs": [
        {
          "output_type": "stream",
          "name": "stdout",
          "text": [
            "(506, 1) (506, 1)\n"
          ]
        }
      ]
    },
    {
      "cell_type": "code",
      "source": [
        "# 객체 생성\n",
        "regression = LinearRegression()"
      ],
      "metadata": {
        "id": "_9ZHh6RqCzbr"
      },
      "execution_count": 16,
      "outputs": []
    },
    {
      "cell_type": "code",
      "source": [
        "#fit 메소드에 학습 데이터 전달 및 학습\n",
        "regression.fit(x_independent,y_dependent)"
      ],
      "metadata": {
        "colab": {
          "base_uri": "https://localhost:8080/"
        },
        "id": "29Obid-gDSF5",
        "outputId": "07357630-caae-4311-e216-6182b12a5551"
      },
      "execution_count": 17,
      "outputs": [
        {
          "output_type": "execute_result",
          "data": {
            "text/plain": [
              "LinearRegression()"
            ]
          },
          "metadata": {},
          "execution_count": 17
        }
      ]
    },
    {
      "cell_type": "code",
      "source": [
        "#테스팅에 사용할 데이터 생성\n",
        "testing = np.linspace(min(x_independent),max(x_independent)).reshape(-1,1)\n",
        "# linpace(start, stop, num=50) -> start 부터 stop 까지 num 개의 수를 균일하게 생성 및 반환하는 함수\n",
        "# 이때 num 의 default 값은 50\n",
        "print(testing.shape)"
      ],
      "metadata": {
        "colab": {
          "base_uri": "https://localhost:8080/"
        },
        "id": "oFzDeAgNDapr",
        "outputId": "587d7d10-f3e3-43e9-99be-7a9de72b62ad"
      },
      "execution_count": 19,
      "outputs": [
        {
          "output_type": "stream",
          "name": "stdout",
          "text": [
            "(50, 1)\n"
          ]
        }
      ]
    },
    {
      "cell_type": "code",
      "source": [
        "# 모델 예측 \n",
        "y_pred = regression.predict(testing)"
      ],
      "metadata": {
        "id": "ik5JqovfEATq"
      },
      "execution_count": 20,
      "outputs": []
    },
    {
      "cell_type": "code",
      "source": [
        "# 최적의 회귀선 시각화\n",
        "plt.figure(figsize=(10,5))\n",
        "plt.scatter(x_independent, y_dependent)\n",
        "# 회귀선 그리기\n",
        "plt.plot(testing, y_pred, color = 'red', Linewidth = 3)\n",
        "plt.xlabel('x_independent')\n",
        "plt.ylabel('y_dependent')\n",
        "plt.show()\n"
      ],
      "metadata": {
        "colab": {
          "base_uri": "https://localhost:8080/",
          "height": 335
        },
        "id": "cV6EKnjDELUr",
        "outputId": "d9b92808-839c-40eb-c66a-2aac61f7b44e"
      },
      "execution_count": 23,
      "outputs": [
        {
          "output_type": "display_data",
          "data": {
            "text/plain": [
              "<Figure size 720x360 with 1 Axes>"
            ],
            "image/png": "[encoded data removed]"
          },
          "metadata": {
            "needs_background": "light"
          }
        }
      ]
    }
  ]
}