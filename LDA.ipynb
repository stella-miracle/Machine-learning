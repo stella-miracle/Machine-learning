{
  "nbformat": 4,
  "nbformat_minor": 0,
  "metadata": {
    "colab": {
      "name": "LDA.ipynb",
      "provenance": [],
      "authorship_tag": "ABX9TyPfYqkXAFWA8PB6c0XULwwB"
    },
    "kernelspec": {
      "name": "python3",
      "display_name": "Python 3"
    },
    "language_info": {
      "name": "python"
    }
  },
  "cells": [
    {
      "cell_type": "code",
      "execution_count": 1,
      "metadata": {
        "id": "ZwcxFlrq2987"
      },
      "outputs": [],
      "source": [
        "from sklearn.datasets import load_iris\n",
        "import pandas as pd\n",
        "import matplotlib.pyplot as plt\n",
        "import seaborn as sns"
      ]
    },
    {
      "cell_type": "code",
      "source": [
        "data = load_iris()\n",
        "print(\"iris_data keys and format\\n\",data.keys())"
      ],
      "metadata": {
        "colab": {
          "base_uri": "https://localhost:8080/"
        },
        "id": "k4OdtF6437cp",
        "outputId": "f96f64f5-a99d-4bff-b04a-6e4c36783b58"
      },
      "execution_count": 3,
      "outputs": [
        {
          "output_type": "stream",
          "name": "stdout",
          "text": [
            "iris_data keys and format\n",
            " dict_keys(['data', 'target', 'frame', 'target_names', 'DESCR', 'feature_names', 'filename', 'data_module'])\n"
          ]
        }
      ]
    },
    {
      "cell_type": "code",
      "source": [
        "# dataframe 생성전 data 재설정 \n",
        "iris_data = data['data']\n",
        "iris_cols = data['feature_names']\n",
        "print(\"iris datasets columns\\n\",iris_cols)"
      ],
      "metadata": {
        "colab": {
          "base_uri": "https://localhost:8080/"
        },
        "id": "Vh9psjqH4mqU",
        "outputId": "23dda74a-b420-4c33-f9f5-34d5689b2b15"
      },
      "execution_count": 4,
      "outputs": [
        {
          "output_type": "stream",
          "name": "stdout",
          "text": [
            "iris datasets columns\n",
            " ['sepal length (cm)', 'sepal width (cm)', 'petal length (cm)', 'petal width (cm)']\n"
          ]
        }
      ]
    },
    {
      "cell_type": "code",
      "source": [
        "iris_cols=['sep_len', 'sep_wt', 'pet_len', 'pet_wt']"
      ],
      "metadata": {
        "id": "DG-ASq6568yi"
      },
      "execution_count": 5,
      "outputs": []
    },
    {
      "cell_type": "code",
      "source": [
        "iris_df = pd.DataFrame(data= iris_data, columns=iris_cols)\n",
        "print(\"iris_df\\n\",iris_df.head(5))"
      ],
      "metadata": {
        "colab": {
          "base_uri": "https://localhost:8080/"
        },
        "id": "p9pbu6Dm7vVB",
        "outputId": "0f7db1cc-629a-4830-8a95-d394f6085ec8"
      },
      "execution_count": 6,
      "outputs": [
        {
          "output_type": "stream",
          "name": "stdout",
          "text": [
            "iris_df\n",
            "    sep_len  sep_wt  pet_len  pet_wt\n",
            "0      5.1     3.5      1.4     0.2\n",
            "1      4.9     3.0      1.4     0.2\n",
            "2      4.7     3.2      1.3     0.2\n",
            "3      4.6     3.1      1.5     0.2\n",
            "4      5.0     3.6      1.4     0.2\n"
          ]
        }
      ]
    },
    {
      "cell_type": "code",
      "source": [
        "iris_df['label']=data['target']\n",
        "print(iris_df.head(5))"
      ],
      "metadata": {
        "colab": {
          "base_uri": "https://localhost:8080/"
        },
        "id": "J9IRpbia8ArC",
        "outputId": "3848bd7f-867a-4528-b09e-4fbd1509ca21"
      },
      "execution_count": 10,
      "outputs": [
        {
          "output_type": "stream",
          "name": "stdout",
          "text": [
            "   sep_len  sep_wt  pet_len  pet_wt  label\n",
            "0      5.1     3.5      1.4     0.2      0\n",
            "1      4.9     3.0      1.4     0.2      0\n",
            "2      4.7     3.2      1.3     0.2      0\n",
            "3      4.6     3.1      1.5     0.2      0\n",
            "4      5.0     3.6      1.4     0.2      0\n"
          ]
        }
      ]
    },
    {
      "cell_type": "code",
      "source": [
        "check_df = iris_df.groupby('label').count()\n",
        "print(check_df)"
      ],
      "metadata": {
        "colab": {
          "base_uri": "https://localhost:8080/"
        },
        "id": "IrBoBFVz_sjQ",
        "outputId": "2c894f79-edf4-4713-a661-89b91cfc7513"
      },
      "execution_count": 12,
      "outputs": [
        {
          "output_type": "stream",
          "name": "stdout",
          "text": [
            "       sep_len  sep_wt  pet_len  pet_wt\n",
            "label                                  \n",
            "0           50      50       50      50\n",
            "1           50      50       50      50\n",
            "2           50      50       50      50\n"
          ]
        }
      ]
    },
    {
      "cell_type": "code",
      "source": [
        "#LDA \n",
        "from sklearn.discriminant_analysis import LinearDiscriminantAnalysis as LDA\n",
        "\n",
        "x_train = iris_df[iris_cols]\n",
        "y_train = iris_df['label']\n",
        "\n",
        "#LDA setting -> use transform\n",
        "lda = LDA().fit(x_train,y_train)\n",
        "y_pred = pd.DataFrame(lda.predict(x_train))\n",
        "print(\"예측결과\\n\",y_pred.head(5))\n",
        "y_pred_score=pd.DataFrame(lda.predict_proba(x_train))\n",
        "print(\"예측스코어\\n\",y_pred_score.head(5))\n",
        "print(\"예측정확도\\n\",lda.score(x_train,y_train)) #독립변수와 종속변수"
      ],
      "metadata": {
        "colab": {
          "base_uri": "https://localhost:8080/"
        },
        "id": "3vTRXjHb8vjx",
        "outputId": "a606c9bc-ddb0-48c5-dd26-8f142c3e8ea1"
      },
      "execution_count": 15,
      "outputs": [
        {
          "output_type": "stream",
          "name": "stdout",
          "text": [
            "예측결과\n",
            "    0\n",
            "0  0\n",
            "1  0\n",
            "2  0\n",
            "3  0\n",
            "4  0\n",
            "예측스코어\n",
            "      0             1             2\n",
            "0  1.0  3.896358e-22  2.611168e-42\n",
            "1  1.0  7.217970e-18  5.042143e-37\n",
            "2  1.0  1.463849e-19  4.675932e-39\n",
            "3  1.0  1.268536e-16  3.566610e-35\n",
            "4  1.0  1.637387e-22  1.082605e-42\n",
            "예측정확도\n",
            " 0.98\n"
          ]
        }
      ]
    },
    {
      "cell_type": "code",
      "source": [
        "# 분류 결과 확인하기\n",
        "from sklearn.metrics import confusion_matrix\n",
        "\n",
        "conf_df = pd.DataFrame(confusion_matrix(y_train, lda.predict(x_train)))\n",
        "conf_df.columns=['pred 0', 'pred 1', 'pred 2']#setosa,versicolor,virginica\n",
        "conf_df.index = ['real 0', 'real 1', 'real 2']\n",
        "print('Confusion Matrix \\n',conf_df) \n"
      ],
      "metadata": {
        "colab": {
          "base_uri": "https://localhost:8080/"
        },
        "id": "rZ7PSuD1_mX_",
        "outputId": "fc1a5ec0-176f-44d8-d07a-c715f7cf4f90"
      },
      "execution_count": 16,
      "outputs": [
        {
          "output_type": "stream",
          "name": "stdout",
          "text": [
            "Confusion Matrix \n",
            "         pred 0  pred 1  pred 2\n",
            "real 0      50       0       0\n",
            "real 1       0      48       2\n",
            "real 2       0       1      49\n"
          ]
        }
      ]
    },
    {
      "cell_type": "code",
      "source": [
        "from sklearn.discriminant_analysis import LinearDiscriminantAnalysis\n",
        "cld=LinearDiscriminantAnalysis()\n",
        "\n",
        "X_lda = cld.fit_transform(x_train, y_train)\n",
        "print(X_lda.shape)\n",
        "fig, ax = plt.subplots(ncols=2)\n",
        "\n",
        "sns.scatterplot(iris_df['sep_len'], iris_df['sep_wt'], \n",
        "                hue=iris_df['label'], ax=ax[0])\n",
        "sns.scatterplot(X_lda[:,0], X_lda[:,1], hue=y_train, ax=ax[1])\n",
        "plt.show()"
      ],
      "metadata": {
        "colab": {
          "base_uri": "https://localhost:8080/",
          "height": 396
        },
        "id": "KwtLsUDJEzYW",
        "outputId": "7d79c2b6-97f5-428f-cc60-8796708dbdc9"
      },
      "execution_count": 19,
      "outputs": [
        {
          "output_type": "stream",
          "name": "stdout",
          "text": [
            "(150, 2)\n"
          ]
        },
        {
          "output_type": "stream",
          "name": "stderr",
          "text": [
            "/usr/local/lib/python3.7/dist-packages/seaborn/_decorators.py:43: FutureWarning: Pass the following variables as keyword args: x, y. From version 0.12, the only valid positional argument will be `data`, and passing other arguments without an explicit keyword will result in an error or misinterpretation.\n",
            "  FutureWarning\n",
            "/usr/local/lib/python3.7/dist-packages/seaborn/_decorators.py:43: FutureWarning: Pass the following variables as keyword args: x, y. From version 0.12, the only valid positional argument will be `data`, and passing other arguments without an explicit keyword will result in an error or misinterpretation.\n",
            "  FutureWarning\n"
          ]
        },
        {
          "output_type": "display_data",
          "data": {
            "text/plain": [
              "<Figure size 432x288 with 2 Axes>"
            ],
            "image/png": "[encoded data removed]"
          },
          "metadata": {
            "needs_background": "light"
          }
        }
      ]
    },
    {
      "cell_type": "code",
      "source": [
        ""
      ],
      "metadata": {
        "id": "Cj6DNE3YHILu"
      },
      "execution_count": null,
      "outputs": []
    }
  ]
}