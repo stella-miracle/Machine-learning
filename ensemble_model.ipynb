{
  "nbformat": 4,
  "nbformat_minor": 0,
  "metadata": {
    "colab": {
      "name": "ensemble_model.ipynb",
      "provenance": [],
      "authorship_tag": "ABX9TyPVc6ctpIe41l6+wKUALfKp"
    },
    "kernelspec": {
      "name": "python3",
      "display_name": "Python 3"
    },
    "language_info": {
      "name": "python"
    }
  },
  "cells": [
    {
      "cell_type": "code",
      "execution_count": 9,
      "metadata": {
        "colab": {
          "base_uri": "https://localhost:8080/"
        },
        "id": "RFIrLJVPffs8",
        "outputId": "e1d93f96-7f43-4080-f5c9-d1fd15456378"
      },
      "outputs": [
        {
          "output_type": "stream",
          "name": "stderr",
          "text": [
            "/usr/local/lib/python3.7/dist-packages/sklearn/linear_model/_logistic.py:818: ConvergenceWarning: lbfgs failed to converge (status=1):\n",
            "STOP: TOTAL NO. of ITERATIONS REACHED LIMIT.\n",
            "\n",
            "Increase the number of iterations (max_iter) or scale the data as shown in:\n",
            "    https://scikit-learn.org/stable/modules/preprocessing.html\n",
            "Please also refer to the documentation for alternative solver options:\n",
            "    https://scikit-learn.org/stable/modules/linear_model.html#logistic-regression\n",
            "  extra_warning_msg=_LOGISTIC_SOLVER_CONVERGENCE_MSG,\n"
          ]
        },
        {
          "output_type": "stream",
          "name": "stdout",
          "text": [
            "LogisticRegression 정확도 : 0.936\n",
            "DecisionTreeClassifier 정확도 : 0.912\n",
            "Voting classifier accuracy:0.912\n"
          ]
        },
        {
          "output_type": "stream",
          "name": "stderr",
          "text": [
            "/usr/local/lib/python3.7/dist-packages/sklearn/linear_model/_logistic.py:818: ConvergenceWarning: lbfgs failed to converge (status=1):\n",
            "STOP: TOTAL NO. of ITERATIONS REACHED LIMIT.\n",
            "\n",
            "Increase the number of iterations (max_iter) or scale the data as shown in:\n",
            "    https://scikit-learn.org/stable/modules/preprocessing.html\n",
            "Please also refer to the documentation for alternative solver options:\n",
            "    https://scikit-learn.org/stable/modules/linear_model.html#logistic-regression\n",
            "  extra_warning_msg=_LOGISTIC_SOLVER_CONVERGENCE_MSG,\n"
          ]
        }
      ],
      "source": [
        "from sklearn.datasets import load_breast_cancer\n",
        "from sklearn.model_selection import train_test_split\n",
        "from sklearn.metrics import accuracy_score\n",
        "from sklearn.ensemble import VotingClassifier\n",
        "from sklearn.linear_model import LogisticRegression\n",
        "from sklearn.tree import DecisionTreeClassifier\n",
        "\n",
        "cancer = load_breast_cancer()\n",
        "x_train,x_test,y_train,y_test = train_test_split(cancer.data, cancer.target, test_size= 0.3, random_state = 12)\n",
        "\n",
        "#머신러닝 모델객체 생성\n",
        "logist = LogisticRegression(random_state = 12)\n",
        "decision = DecisionTreeClassifier(random_state = 12)\n",
        "\n",
        "#앙상블 voting 기법\n",
        "vote= VotingClassifier(estimators = [('lo',logist),('de',decision)],voting='soft')\n",
        "\n",
        "classifiers = [logist, decision]\n",
        "\n",
        "for classifier in classifiers:\n",
        "  classifier.fit(x_train,y_train)\n",
        "  pred = classifier.predict(x_test)\n",
        "  class_name = classifier.__class__.__name__\n",
        "  print('{0} 정확도 : {1:.3f}'.format(class_name,accuracy_score(y_test,pred)))\n",
        "\n",
        "vote.fit(x_train,y_train)\n",
        "pred = vote.predict(x_test)\n",
        "print(\"Voting classifier accuracy:{0:.3f}\".format(accuracy_score(y_test,pred)))"
      ]
    },
    {
      "cell_type": "code",
      "source": [
        ""
      ],
      "metadata": {
        "id": "q1cfSntdgW7X"
      },
      "execution_count": null,
      "outputs": []
    }
  ]
}