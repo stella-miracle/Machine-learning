{
  "nbformat": 4,
  "nbformat_minor": 0,
  "metadata": {
    "colab": {
      "name": "Logistic Regression_sklearn.ipynb",
      "provenance": [],
      "authorship_tag": "ABX9TyPEFLuGr9rGO8FQUzkWeJTF"
    },
    "kernelspec": {
      "name": "python3",
      "display_name": "Python 3"
    },
    "language_info": {
      "name": "python"
    },
    "accelerator": "GPU"
  },
  "cells": [
    {
      "cell_type": "markdown",
      "source": [
        "#sklearn 을 활용한 Logistic Regression"
      ],
      "metadata": {
        "id": "JA1DE_BSdlZD"
      }
    },
    {
      "cell_type": "code",
      "execution_count": 1,
      "metadata": {
        "id": "m2ydHhbadehD"
      },
      "outputs": [],
      "source": [
        "# 4가지의 feature 를 기반으로 자전거 대여 횟수 예측 \n",
        "# 미리 count 를 확인한 결과 min = 0 , max = 977\n",
        "# 조건 : 대여수가 500 이상이면,\n",
        "# 가정 : 자전거를 더 준비해야한다.\n",
        "\n",
        "# 그럼 이때 하루에 자전거 대여 500건이 이상인 경우는? "
      ]
    },
    {
      "cell_type": "code",
      "source": [
        "import pandas as pd\n",
        "import numpy as np\n",
        "\n",
        "# 필요한 라이브러리\n",
        "from sklearn.preprocessing import StandardScaler\n",
        "from sklearn.model_selection import train_test_split\n",
        "from sklearn.linear_model import LogisticRegression \n",
        "\n",
        "#성능 지표 함수 로딩\n",
        "from sklearn.metrics import confusion_matrix\n",
        "from sklearn.metrics import accuracy_score\n",
        "from sklearn.metrics import precision_score\n",
        "from sklearn.metrics import recall_score\n",
        "\n",
        "\n",
        "#데이터 불러오기\n",
        "url='https://codepresso-online-platform-public.s3.ap-northeast-2.amazonaws.com/learning-resourse/python-machine-learning-20210326/bike-demand.csv'\n",
        "df_bike = pd.read_csv(url)\n",
        "\n",
        "\n",
        "#독립변수 슬라이싱\n",
        "x=df_bike.iloc[:,5:9]\n",
        "print(x.head(5))\n",
        "\n",
        "# 종속변수 데이터 정하기 \n",
        "# 대여건 500 이상 -> 1, 그렇지 않으면 0\n",
        "# 이때, 원래의 count 자료는 연속된 수치형 자료로 존재하기때문에 이진 분류를 위한 로지스틱 회귀 불가\n",
        "# 즉, 새로운 이진형태를 가지는 데이터 셋을 생성 필수.\n",
        "\n",
        "df_bike['y'] = 1\n",
        "#df_bike 에 y라는 컬럼이 있으면 새로 생성하고 값은 1\n",
        "#만약 이미 존재한다면 그 안의 값을 모두 1 로 변환\n",
        "\n",
        "df_bike.loc[df_bike['count']< 500, 'y'] = 0\n",
        "y = df_bike['y']\n",
        "# negative 하도록 설정 \n",
        "\n",
        "\n",
        "\n",
        "#정규화\n",
        "scaler = StandardScaler()\n",
        "scaler.fit(x)\n",
        "result = scaler.transform(x)\n",
        "datalist = pd.DataFrame(data = result, columns = x.columns)\n",
        "\n",
        "#데이터 셋 분리\n",
        "x_train,x_test,y_train,y_test = train_test_split(datalist,y,test_size=0.3 , random_state =12)\n",
        "\n",
        "#객체 생성\n",
        "lo = LogisticRegression()\n",
        "lo.fit(x_train,y_train)\n",
        "y_pred = lo.predict(x_test)\n",
        "\n",
        "#평균 정확도 측정\n",
        "train_score = lo.score(x_train,y_train)\n",
        "test_score = lo.score(x_test, y_test)\n",
        "print(\"train :{0:.3f}\".format(train_score))\n",
        "print(\"test:{0:3f}\".format(test_score))\n",
        "\n",
        "#오차 행렬 생성\n",
        "error = confusion_matrix(y_test, y_pred) #실제 정답 모델과 예측 모델\n",
        "print(\"error:\", error)\n",
        "\n",
        "# 성능지표 \n",
        "accuracy = accuracy_score(y_test, y_pred)\n",
        "precision = precision_score(y_test, y_pred)\n",
        "recall = recall_score(y_test, y_pred)\n",
        "print(\"accuracy:{0:.3f},precision:{1:.3f},recall={2:.3f}\".format(accuracy, precision,recall))\n"
      ],
      "metadata": {
        "colab": {
          "base_uri": "https://localhost:8080/"
        },
        "id": "Tu-dcJC0fPby",
        "outputId": "3aeb41a2-7d73-4226-c824-94a5283f9dd6"
      },
      "execution_count": 11,
      "outputs": [
        {
          "output_type": "stream",
          "name": "stdout",
          "text": [
            "   temp   atemp  humidity  windspeed\n",
            "0  9.84  14.395        81        0.0\n",
            "1  9.02  13.635        80        0.0\n",
            "2  9.02  13.635        80        0.0\n",
            "3  9.84  14.395        75        0.0\n",
            "4  9.84  14.395        75        0.0\n",
            "train :0.927\n",
            "test:0.924066\n",
            "error: [[3018    0]\n",
            " [ 248    0]]\n",
            "accuracy:0.924,precision:0.000,recall=0.000\n"
          ]
        },
        {
          "output_type": "stream",
          "name": "stderr",
          "text": [
            "/usr/local/lib/python3.7/dist-packages/sklearn/metrics/_classification.py:1318: UndefinedMetricWarning: Precision is ill-defined and being set to 0.0 due to no predicted samples. Use `zero_division` parameter to control this behavior.\n",
            "  _warn_prf(average, modifier, msg_start, len(result))\n"
          ]
        }
      ]
    },
    {
      "cell_type": "markdown",
      "source": [
        "정확도 : 0.92 나머지는 다 0\n",
        "\n",
        "결과: 500 미만인 경우에 예측은 잘하지만,\n",
        "      500 이상의 경우에 대해서는 예측 값이 좋지 않다\n",
        "\n",
        "\n",
        "이유: 데이터 학습의 불균형 때문인데, negative 의 값의 양이 훨씬 많아서 학습이 많이 되었기 때문이다."
      ],
      "metadata": {
        "id": "fahnnD3TmXUK"
      }
    }
  ]
}