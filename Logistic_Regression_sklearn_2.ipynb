{
  "nbformat": 4,
  "nbformat_minor": 0,
  "metadata": {
    "colab": {
      "name": "Logistic Regression_sklearn_2.ipynb",
      "provenance": [],
      "authorship_tag": "ABX9TyNy8BskbcjKLb0RyL1tSaa4"
    },
    "kernelspec": {
      "name": "python3",
      "display_name": "Python 3"
    },
    "language_info": {
      "name": "python"
    },
    "accelerator": "GPU"
  },
  "cells": [
    {
      "cell_type": "code",
      "execution_count": 6,
      "metadata": {
        "colab": {
          "base_uri": "https://localhost:8080/"
        },
        "id": "ZNluNzLxnZSJ",
        "outputId": "3b3d049e-5607-46c0-80a6-0a22ebfcd483"
      },
      "outputs": [
        {
          "output_type": "stream",
          "name": "stdout",
          "text": [
            "error matrix: [[ 61   3]\n",
            " [  0 107]]\n",
            "Accuracy: 0.9825,Precision: 0.9727,Recall: 1.0000\n"
          ]
        }
      ],
      "source": [
        "import pandas as pd\n",
        "from sklearn.datasets import load_breast_cancer\n",
        "from sklearn.preprocessing import StandardScaler\n",
        "from sklearn.linear_model import LogisticRegression\n",
        "from sklearn.model_selection import train_test_split\n",
        "from sklearn.metrics import accuracy_score, precision_score,recall_score,confusion_matrix\n",
        "\n",
        "cancer = load_breast_cancer()\n",
        "cancer_df = pd.DataFrame(data= cancer.data , columns=cancer.feature_names)\n",
        "\n",
        "scaler = StandardScaler()\n",
        "scaler.fit(cancer_df)\n",
        "data_scared = scaler.transform(cancer_df)\n",
        "\n",
        "x_train,x_test,y_train,y_test= train_test_split(data_scared, cancer.target,test_size=0.3,\n",
        "                                                random_state=12)\n",
        "\n",
        "\n",
        "lo=LogisticRegression()\n",
        "lo.fit(x_train,y_train)\n",
        "y_pred = lo.predict(x_test)\n",
        "\n",
        "#오차행렬\n",
        "error = confusion_matrix(y_test, y_pred)\n",
        "print(\"error matrix:\", error)\n",
        "\n",
        "accuracy = accuracy_score(y_test,y_pred)\n",
        "precision = precision_score(y_test,y_pred)\n",
        "recall = recall_score(y_test,y_pred)\n",
        "  \n",
        "print('Accuracy: {0:.4f},Precision: {1:.4f},Recall: {2:.4f}'\n",
        "      .format(accuracy , precision ,recall))\n"
      ]
    }
  ]
}